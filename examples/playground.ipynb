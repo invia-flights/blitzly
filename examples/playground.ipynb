{
 "cells": [
  {
   "attachments": {},
   "cell_type": "markdown",
   "metadata": {},
   "source": [
    "### Installing blitzly ⚡️"
   ]
  },
  {
   "cell_type": "code",
   "execution_count": null,
   "metadata": {},
   "outputs": [],
   "source": [
    "! pip install blitzly"
   ]
  },
  {
   "attachments": {},
   "cell_type": "markdown",
   "metadata": {},
   "source": [
    "# Let's plot 🚀\n",
    "[Plotly](https://plotly.com/python/) is a great library for creating interactive plots. However, it can be a bit cumbersome to use. [blitzly ⚡️](https://github.com/invia-flights/blitzly) is a wrapper around Plotly that makes it easier to use.\n",
    "\n",
    "In this notebook you can try different plots from blitzly ⚡️. You can also see the code that generates them.\n",
    "\n",
    "[![Open In Colab](https://colab.research.google.com/assets/colab-badge.svg)](https://colab.research.google.com/github/invia-flights/blitzly/blob/main/examples/playground.ipynb)"
   ]
  },
  {
   "attachments": {},
   "cell_type": "markdown",
   "metadata": {},
   "source": [
    "## Bar plots 📊\n",
    "Let's start simple. You may know this example already from the [`README.md`](https://github.com/invia-flights/blitzly#multi_chart). It plots a multi bar plot. With only one function call you can create a plot with multiple bars. No need to add `fig.show()`. If you want to save the plot to HTML you can add something like `write_html_path=\"see_the_blitz.html\"`. This function also returns the plot for the case that you want to continue working with it."
   ]
  },
  {
   "cell_type": "code",
   "execution_count": null,
   "metadata": {},
   "outputs": [],
   "source": [
    "from blitzly.plots.bar import multi_bar\n",
    "import numpy as np\n",
    "\n",
    "data = np.array([[8, 3, 6], [9, 7, 5]])\n",
    "error_array = np.array([[0.1, 0.2, 0.3], [0.4, 0.5, 0.6]])\n",
    "\n",
    "fig_multibar = multi_bar(\n",
    "    data,\n",
    "    x_labels=[\"Vienna\", \"Berlin\", \"Lisbon\"],\n",
    "    group_labels=[\"Personal rating\", \"Global rating\"],\n",
    "    errors=error_array,\n",
    "    title=\"City ratings 🏙\",\n",
    "    mark_x_labels=[\"Lisbon\"],\n",
    ")"
   ]
  },
  {
   "cell_type": "code",
   "execution_count": null,
   "metadata": {},
   "outputs": [],
   "source": [
    "print(fig_multibar)"
   ]
  },
  {
   "attachments": {},
   "cell_type": "markdown",
   "metadata": {},
   "source": [
    "## Dumbbell plots 🏋️‍♂️\n",
    "Dumbbell plots are a great way to visualize the difference between values. \n",
    "\n",
    "**In Plotly you do:**\n",
    "```python\n",
    "fig = go.Figure(\n",
    "        data=[\n",
    "            go.Scatter(\n",
    "                x=data.iloc[:, 0],\n",
    "                y=data.index,\n",
    "                mode=\"markers\",\n",
    "                name=data.columns[0],\n",
    "            ),\n",
    "            go.Scatter(\n",
    "                x=data.iloc[:, 1],\n",
    "                y=data.index,\n",
    "                mode=\"markers\",\n",
    "                name=data.columns[1],\n",
    "            ),\n",
    "        ]\n",
    "    )\n",
    "\n",
    "for index, row in data.iterrows():\n",
    "    fig.add_shape(\n",
    "        type=\"line\",\n",
    "        layer=\"below\",\n",
    "        x0=row.iloc[0],\n",
    "        x1=row.iloc[1],\n",
    "        y0=index,\n",
    "        y1=index,\n",
    "        line=dict(width=8),\n",
    "    )\n",
    "\n",
    "fig.update_traces(\n",
    "    marker=dict(size=16),\n",
    ")\n",
    "\n",
    "fig.update_layout(\n",
    "    title=f\"<i><b>Dumbbell plot</b></i>\",\n",
    ")\n",
    "fig.update_layout(\n",
    "    width=size[0],\n",
    "    height=size[1],\n",
    ")\n",
    "```\n",
    "\n",
    "**In blitzly ⚡️ you do:**\n",
    "```python\n",
    "simple_dumbbell(data)\n",
    "```\n",
    "Check out the example below. 👇"
   ]
  },
  {
   "cell_type": "code",
   "execution_count": null,
   "metadata": {},
   "outputs": [],
   "source": [
    "from blitzly.plots.dumbbell import simple_dumbbell\n",
    "import numpy as np\n",
    "import pandas as pd\n",
    "\n",
    "data = {\n",
    "    \"foo\": np.random.rand(10),\n",
    "    \"bar\": np.random.rand(10),\n",
    "}\n",
    "index = [f\"category {i+1} ⚡️\" for i in range(10)]\n",
    "df = pd.DataFrame(data, index=index)\n",
    "\n",
    "fig_dumbbell = simple_dumbbell(df, title=\"My first dumbbell plot 🤓\")"
   ]
  },
  {
   "attachments": {},
   "cell_type": "markdown",
   "metadata": {},
   "source": [
    "# Confusion matrix 🤔\n",
    "\n",
    "Simple! You can also change the `positive_class_label` and `negative_class_label` to your liking. Or change to one of the beautiful themes that are available in Plotly: `color_scale`."
   ]
  },
  {
   "cell_type": "code",
   "execution_count": null,
   "metadata": {},
   "outputs": [],
   "source": [
    "from blitzly.plots.matrix import binary_confusion_matrix\n",
    "import numpy as np\n",
    "\n",
    "data = np.array([[1, 0, 1, 1, 0, 1], [0, 0, 1, 1, 0, 1]])\n",
    "_ = binary_confusion_matrix(  # Juptyer notebooks always print the last line of a cell. To prevent we do `_ = ...`.\n",
    "    data,\n",
    "    positive_class_label=\"Fraud\",\n",
    "    negative_class_label=\"No fraud\",\n",
    "    title=\"A confusing matrix 🙃\",\n",
    "    show_scale=True,\n",
    "    color_scale=\"Viridis\",\n",
    ")"
   ]
  },
  {
   "attachments": {},
   "cell_type": "markdown",
   "metadata": {},
   "source": [
    "# Subplots\n",
    "\n",
    "Combine any of the previously-created figures as subplots in the same figure!"
   ]
  },
  {
   "cell_type": "code",
   "execution_count": null,
   "metadata": {},
   "outputs": [],
   "source": [
    "from blitzly.subplots import make_subplots\n",
    "\n",
    "_ = make_subplots([fig_multibar, fig_dumbbell, fig_dumbbell, fig_multibar], (2, 2))"
   ]
  },
  {
   "attachments": {},
   "cell_type": "markdown",
   "metadata": {},
   "source": [
    "**This is just the beginning. We will continue adding more plots to blitzly ⚡️ and to this notebook. If you have any suggestions, please [let us know](https://github.com/invia-flights/blitzly/issues/new). 🙏**"
   ]
  }
 ],
 "metadata": {
  "kernelspec": {
   "display_name": "blitzly",
   "language": "python",
   "name": "python3"
  },
  "language_info": {
   "codemirror_mode": {
    "name": "ipython",
    "version": 3
   },
   "file_extension": ".py",
   "mimetype": "text/x-python",
   "name": "python",
   "nbconvert_exporter": "python",
   "pygments_lexer": "ipython3",
   "version": "3.11.0"
  },
  "vscode": {
   "interpreter": {
    "hash": "f4fa492d61aa4bd4bbaeb19b5818168dde89106ff3309a91e7db70fcb63410b9"
   }
  }
 },
 "nbformat": 4,
 "nbformat_minor": 2
}
